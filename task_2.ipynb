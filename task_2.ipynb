{
 "cells": [
  {
   "cell_type": "markdown",
   "metadata": {},
   "source": [
    "### Task 2 \n",
    "\n",
    "##### There are numerous things that need to be cleaned up in the dataset. Pick any one thing to fix and, along with the code to do so, explain why it is important in the same notebook.\n",
    "\n",
    "###### ***Please note that for this task I will to be using Pandas***"
   ]
  },
  {
   "cell_type": "code",
   "execution_count": 1,
   "metadata": {},
   "outputs": [],
   "source": [
    "# Import dependecy \n",
    "\n",
    "from csv import reader"
   ]
  },
  {
   "cell_type": "markdown",
   "metadata": {},
   "source": [
    "###### Opening and reading the file"
   ]
  },
  {
   "cell_type": "code",
   "execution_count": 4,
   "metadata": {},
   "outputs": [],
   "source": [
    "# Reading and opening the dataset \n",
    "\n",
    "opened_file = open('dk_data.csv')\n",
    "read_file = reader(opened_file)\n",
    "dk = list(read_file)\n",
    "dk_header = dk[0]\n",
    "dk = dk[1:]"
   ]
  },
  {
   "cell_type": "markdown",
   "metadata": {},
   "source": [
    "###### Creating  a function\n",
    "\n",
    "In order to analyze the data more effectively i will creeate this function. I will use this function to explore rows in a more readle way as well as showing the number of rows and columns. "
   ]
  },
  {
   "cell_type": "code",
   "execution_count": 8,
   "metadata": {},
   "outputs": [
    {
     "name": "stdout",
     "output_type": "stream",
     "text": [
      "['amount_eur', 'amount_orig', 'amount_orig_currency', 'amount_usd', 'beneficiary_account', 'beneficiary_bank_country', 'beneficiary_core', 'beneficiary_jurisdiction', 'beneficiary_name', 'beneficiary_name_norm', 'beneficiary_type', 'date', 'id', 'investigation', 'payer_account', 'payer_bank_country', 'payer_core', 'payer_jurisdiction', 'payer_name', 'payer_name_norm', 'payer_type', 'purpose', 'source_file']\n",
      "\n",
      "\n",
      "['$431,762.31', '535470.0', 'USD', '535470', 'EE27 3300 3335 0561 0002', 'EE', 'True', 'GB', 'LCM ALLIANCE LLP', 'LCM ALLIANCE LLP', 'Company', '2012-06-30', '6049', 'az', '33817018409333311204', '33', 'False', 'AZ', 'AZARBAYCAN METANOL KOMPANI MMC', 'AZARBAYCAN METANOL KOMPANI MMC', 'Company', '1206295100052180 OCT4121800021 ADVANCE PAYM FOR THE INST RUMENTATIO N AND CONTROL CABLES BOM IN ACC WIT H THE CON TR DD 25.06.2012', 'pdf/LCM ALLIANCE Account statement 30.06.12-31.12.14.xml']\n",
      "\n",
      "\n",
      "['$423,688.44', '-535000.0', 'USD', '535000', '333504500003', '33', 'False', 'GB', 'MOBILA LLP', 'MOBILA LLP', 'Company', '2012-07-03', '6050', 'az', 'EE27 3300 3335 0561 0002', 'EE', 'True', 'GB', 'LCM ALLIANCE LLP', 'LCM ALLIANCE LLP', 'Company', '1207035026699176 INVOICE.No 6215 DD 25.05.2012', 'pdf/LCM ALLIANCE Account statement 30.06.12-31.12.14.xml']\n",
      "\n",
      "\n",
      "['$71,698.53', '90535.19', 'USD', '90536', 'EE77 3300 3334 8704 0004', 'EE', 'True', 'GB', 'METASTAR INVEST LLP', 'METASTAR INVEST LLP', 'Company', '2012-07-06', '10623', 'az', '20100374548222', '20', 'False', 'GB', 'SKN ELECTRICAL SERVICES LIMITEDACCO', 'SKN ELECTRICAL SERVICES LIMITED', 'Company', '1207065103089249   /FEE/USD4,81', 'pdf/METASTAR Account statement 30.06.12-31.12.14.xml']\n",
      "\n",
      "\n",
      "['$71,686.50', '-90520.0', 'USD', '90520', '333455870002', '33', 'False', 'VG', 'INMAXO CAPITAL CORP', 'INMAXO CAPITAL CORP.', 'Company', '2012-07-09', '15589', 'az', 'EE77 3300 3334 8704 0004', 'EE', 'True', 'GB', 'METASTAR INVEST LLP', 'METASTAR INVEST LLP', 'Company', '1207095022358525 DOGOVOR ZAYMA', 'pdf/METASTAR Account statement 30.06.12-31.12.14.xml']\n",
      "\n",
      "\n",
      "['$47.52', '-60.0', 'USD', '60', '333455870002', '33', 'False', 'VG', 'INMAXO CAPITAL CORP', 'INMAXO CAPITAL CORP.', 'Company', '2012-07-13', '10624', 'az', 'EE77 3300 3334 8704 0004', 'EE', 'True', 'GB', 'METASTAR INVEST LLP', 'METASTAR INVEST LLP', 'Company', '1207135024578077 DOGOVOR ZAYMA', 'pdf/METASTAR Account statement 30.06.12-31.12.14.xml']\n",
      "\n",
      "\n",
      "Number of rows: 16940\n",
      "Number of columns: 23\n"
     ]
    }
   ],
   "source": [
    "def ex_data(dataset, start, end, rows_and_columns=False):\n",
    "    dataset_slice = dataset[start:end]\n",
    "    for row in dataset_slice:\n",
    "        print(row)\n",
    "        print('\\n')\n",
    "        \n",
    "    if rows_and_columns:\n",
    "        print('Number of rows:', len(dataset))\n",
    "        print('Number of columns:', len(dataset[0]))\n",
    "        \n",
    "print(dk_header)\n",
    "print('\\n')\n",
    "ex_data(dk, 0, 5, True)"
   ]
  },
  {
   "cell_type": "code",
   "execution_count": null,
   "metadata": {},
   "outputs": [],
   "source": []
  }
 ],
 "metadata": {
  "kernelspec": {
   "display_name": "Python 3",
   "language": "python",
   "name": "python3"
  },
  "language_info": {
   "codemirror_mode": {
    "name": "ipython",
    "version": 3
   },
   "file_extension": ".py",
   "mimetype": "text/x-python",
   "name": "python",
   "nbconvert_exporter": "python",
   "pygments_lexer": "ipython3",
   "version": "3.7.1"
  }
 },
 "nbformat": 4,
 "nbformat_minor": 2
}
